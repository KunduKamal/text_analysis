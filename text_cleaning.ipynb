{
 "cells": [
  {
   "cell_type": "code",
   "execution_count": 1,
   "id": "b385ab22",
   "metadata": {},
   "outputs": [],
   "source": [
    "from collections import Counter\n",
    "from pprint import pprint\n",
    "\n",
    "import pandas as pd\n",
    "import numpy as np\n",
    "\n",
    "import matplotlib\n",
    "import matplotlib.pyplot as plt\n",
    "\n",
    "import re\n",
    "\n",
    "import tqdm as tq\n",
    "from tqdm import tqdm\n",
    "\n",
    "import string\n",
    "import nltk\n",
    "\n",
    "import watermark\n",
    "\n",
    "%load_ext watermark\n",
    "%matplotlib inline\n"
   ]
  },
  {
   "cell_type": "code",
   "execution_count": 2,
   "id": "c33dd041",
   "metadata": {},
   "outputs": [],
   "source": [
    "# Stemming\n",
    "\n",
    "words = ['playing', 'loved', 'ran', 'river', 'friendships', 'misunderstanding', 'trouble', 'troubling']\n",
    "\n",
    "stemmers = {\n",
    "    'LancasterStemmer' : nltk.stem.LancasterStemmer(),\n",
    "    'PorterStemmer' : nltk.stem.PorterStemmer(),\n",
    "    'RegexpStemmer' : nltk.stem.RegexpStemmer('ing$|s$|e$|able$'),\n",
    "    'SnowballStemmer' : nltk.stem.SnowballStemmer('english')\n",
    "}"
   ]
  },
  {
   "cell_type": "code",
   "execution_count": 3,
   "id": "7fa904e1",
   "metadata": {},
   "outputs": [],
   "source": [
    "matrix = []\n",
    "\n",
    "for word in words:\n",
    "    row = []\n",
    "    for stemmer in stemmers:\n",
    "        stem = stemmers[stemmer]\n",
    "        row.append(stem.stem(word))\n",
    "\n",
    "    matrix.append(row)\n",
    "\n",
    "comparison = pd.DataFrame(matrix, index=words, columns=stemmers.keys())\n",
    "\n"
   ]
  },
  {
   "cell_type": "code",
   "execution_count": 4,
   "id": "415a7b6a",
   "metadata": {},
   "outputs": [
    {
     "data": {
      "text/html": [
       "<div>\n",
       "<style scoped>\n",
       "    .dataframe tbody tr th:only-of-type {\n",
       "        vertical-align: middle;\n",
       "    }\n",
       "\n",
       "    .dataframe tbody tr th {\n",
       "        vertical-align: top;\n",
       "    }\n",
       "\n",
       "    .dataframe thead th {\n",
       "        text-align: right;\n",
       "    }\n",
       "</style>\n",
       "<table border=\"1\" class=\"dataframe\">\n",
       "  <thead>\n",
       "    <tr style=\"text-align: right;\">\n",
       "      <th></th>\n",
       "      <th>LancasterStemmer</th>\n",
       "      <th>PorterStemmer</th>\n",
       "      <th>RegexpStemmer</th>\n",
       "      <th>SnowballStemmer</th>\n",
       "    </tr>\n",
       "  </thead>\n",
       "  <tbody>\n",
       "    <tr>\n",
       "      <th>playing</th>\n",
       "      <td>play</td>\n",
       "      <td>play</td>\n",
       "      <td>play</td>\n",
       "      <td>play</td>\n",
       "    </tr>\n",
       "    <tr>\n",
       "      <th>loved</th>\n",
       "      <td>lov</td>\n",
       "      <td>love</td>\n",
       "      <td>loved</td>\n",
       "      <td>love</td>\n",
       "    </tr>\n",
       "    <tr>\n",
       "      <th>ran</th>\n",
       "      <td>ran</td>\n",
       "      <td>ran</td>\n",
       "      <td>ran</td>\n",
       "      <td>ran</td>\n",
       "    </tr>\n",
       "    <tr>\n",
       "      <th>river</th>\n",
       "      <td>riv</td>\n",
       "      <td>river</td>\n",
       "      <td>river</td>\n",
       "      <td>river</td>\n",
       "    </tr>\n",
       "    <tr>\n",
       "      <th>friendships</th>\n",
       "      <td>friend</td>\n",
       "      <td>friendship</td>\n",
       "      <td>friendship</td>\n",
       "      <td>friendship</td>\n",
       "    </tr>\n",
       "    <tr>\n",
       "      <th>misunderstanding</th>\n",
       "      <td>misunderstand</td>\n",
       "      <td>misunderstand</td>\n",
       "      <td>misunderstand</td>\n",
       "      <td>misunderstand</td>\n",
       "    </tr>\n",
       "    <tr>\n",
       "      <th>trouble</th>\n",
       "      <td>troubl</td>\n",
       "      <td>troubl</td>\n",
       "      <td>troubl</td>\n",
       "      <td>troubl</td>\n",
       "    </tr>\n",
       "    <tr>\n",
       "      <th>troubling</th>\n",
       "      <td>troubl</td>\n",
       "      <td>troubl</td>\n",
       "      <td>troubl</td>\n",
       "      <td>troubl</td>\n",
       "    </tr>\n",
       "  </tbody>\n",
       "</table>\n",
       "</div>"
      ],
      "text/plain": [
       "                 LancasterStemmer  PorterStemmer  RegexpStemmer  \\\n",
       "playing                      play           play           play   \n",
       "loved                         lov           love          loved   \n",
       "ran                           ran            ran            ran   \n",
       "river                         riv          river          river   \n",
       "friendships                friend     friendship     friendship   \n",
       "misunderstanding    misunderstand  misunderstand  misunderstand   \n",
       "trouble                    troubl         troubl         troubl   \n",
       "troubling                  troubl         troubl         troubl   \n",
       "\n",
       "                 SnowballStemmer  \n",
       "playing                     play  \n",
       "loved                       love  \n",
       "ran                          ran  \n",
       "river                      river  \n",
       "friendships           friendship  \n",
       "misunderstanding   misunderstand  \n",
       "trouble                   troubl  \n",
       "troubling                 troubl  "
      ]
     },
     "execution_count": 4,
     "metadata": {},
     "output_type": "execute_result"
    }
   ],
   "source": [
    "comparison"
   ]
  },
  {
   "cell_type": "code",
   "execution_count": 2,
   "id": "6f06e3f2",
   "metadata": {},
   "outputs": [
    {
     "name": "stdout",
     "output_type": "stream",
     "text": [
      "None\n"
     ]
    }
   ],
   "source": [
    "import re\n",
    "regex = re.compile(r'\\d+')\n",
    "sentence = \"The Earcth is estimated to be 4.54 billion years old, plus or minus 50 million years.\"\n",
    "\n",
    "res = regex.match(sentence)\n",
    "\n",
    "print(res)"
   ]
  },
  {
   "cell_type": "code",
   "execution_count": 3,
   "id": "0b32480e",
   "metadata": {},
   "outputs": [
    {
     "name": "stdout",
     "output_type": "stream",
     "text": [
      "<re.Match object; span=(30, 31), match='4'>\n"
     ]
    }
   ],
   "source": [
    "res = regex.search(sentence)\n",
    "print(res)"
   ]
  },
  {
   "cell_type": "code",
   "execution_count": 4,
   "id": "49c71c8d",
   "metadata": {},
   "outputs": [
    {
     "data": {
      "text/plain": [
       "(30, 31)"
      ]
     },
     "execution_count": 4,
     "metadata": {},
     "output_type": "execute_result"
    }
   ],
   "source": [
    "res.span()"
   ]
  },
  {
   "cell_type": "code",
   "execution_count": 5,
   "id": "6d2689ba",
   "metadata": {},
   "outputs": [
    {
     "data": {
      "text/plain": [
       "'4'"
      ]
     },
     "execution_count": 5,
     "metadata": {},
     "output_type": "execute_result"
    }
   ],
   "source": [
    "sentence[res.start():res.end()]"
   ]
  },
  {
   "cell_type": "code",
   "execution_count": 6,
   "id": "1e94c34e",
   "metadata": {},
   "outputs": [],
   "source": [
    "res_list = regex.findall(sentence)"
   ]
  },
  {
   "cell_type": "code",
   "execution_count": 7,
   "id": "ce99e9bb",
   "metadata": {},
   "outputs": [
    {
     "data": {
      "text/plain": [
       "3"
      ]
     },
     "execution_count": 7,
     "metadata": {},
     "output_type": "execute_result"
    }
   ],
   "source": [
    "len(res_list)"
   ]
  },
  {
   "cell_type": "code",
   "execution_count": 8,
   "id": "83789385",
   "metadata": {},
   "outputs": [
    {
     "name": "stdout",
     "output_type": "stream",
     "text": [
      "0 4\n",
      "1 54\n",
      "2 50\n"
     ]
    }
   ],
   "source": [
    "for i, res in enumerate(res_list):\n",
    "    print(i, res)"
   ]
  },
  {
   "cell_type": "code",
   "execution_count": 10,
   "id": "1b6368d2",
   "metadata": {},
   "outputs": [],
   "source": [
    "regex = re.compile(r'\\d+\\.?\\d+')"
   ]
  },
  {
   "cell_type": "code",
   "execution_count": 11,
   "id": "f86f03da",
   "metadata": {},
   "outputs": [
    {
     "data": {
      "text/plain": [
       "[<re.Match object; span=(30, 34), match='4.54'>,\n",
       " <re.Match object; span=(68, 70), match='50'>]"
      ]
     },
     "execution_count": 11,
     "metadata": {},
     "output_type": "execute_result"
    }
   ],
   "source": [
    "[match for match in regex.finditer(sentence)]"
   ]
  },
  {
   "cell_type": "code",
   "execution_count": null,
   "id": "8a6e2d50",
   "metadata": {},
   "outputs": [],
   "source": []
  }
 ],
 "metadata": {
  "kernelspec": {
   "display_name": "env_nltk",
   "language": "python",
   "name": "python3"
  },
  "language_info": {
   "codemirror_mode": {
    "name": "ipython",
    "version": 3
   },
   "file_extension": ".py",
   "mimetype": "text/x-python",
   "name": "python",
   "nbconvert_exporter": "python",
   "pygments_lexer": "ipython3",
   "version": "3.11.9"
  }
 },
 "nbformat": 4,
 "nbformat_minor": 5
}
