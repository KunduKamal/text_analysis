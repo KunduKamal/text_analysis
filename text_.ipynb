{
 "cells": [
  {
   "cell_type": "code",
   "execution_count": 4,
   "id": "39d83e0b",
   "metadata": {},
   "outputs": [
    {
     "name": "stdout",
     "output_type": "stream",
     "text": [
      "The watermark extension is already loaded. To reload it, use:\n",
      "  %reload_ext watermark\n"
     ]
    }
   ],
   "source": [
    "import warnings\n",
    "warnings.filterwarnings('ignore')\n",
    "\n",
    "import os\n",
    "import gzip\n",
    "from collections import Counter\n",
    "from pprint import pprint\n",
    "\n",
    "import pandas as pd\n",
    "import numpy as np\n",
    "\n",
    "import matplotlib\n",
    "import matplotlib.pyplot as plt\n",
    "\n",
    "np.random.seed(123)\n",
    "\n",
    "import string\n",
    "import nltk\n",
    "from nltk.corpus import stopwords\n",
    "from nltk.text import TextCollection\n",
    "from nltk.collocations import BigramCollocationFinder\n",
    "from nltk.metrics.association import BigramAssocMeasures\n",
    "\n",
    "import sklearn\n",
    "from sklearn.manifold import TSNE\n",
    "from sklearn.metrics.pairwise import cosine_similarity\n",
    "\n",
    "from tqdm import tqdm\n",
    "tqdm.pandas()\n",
    "\n",
    "import watermark\n",
    "\n",
    "# For Jupyter notebooks (optional, if using Jupyter)\n",
    "%load_ext watermark\n"
   ]
  },
  {
   "cell_type": "code",
   "execution_count": 1,
   "id": "1cedae27",
   "metadata": {},
   "outputs": [],
   "source": [
    "import collections\n",
    "import multiprocessing as mp\n",
    "import re\n",
    "import nltk"
   ]
  },
  {
   "cell_type": "code",
   "execution_count": 5,
   "id": "f6facf9a",
   "metadata": {},
   "outputs": [],
   "source": [
    "text = \"\"\"Mary had a little lamb, little lamb, little lamb. \n",
    "'Mary' had a little lamb whose fleece was white as snow. and \n",
    "everywhere that mary went mary went, mary went. Everywhere that Mary went, \n",
    "The lamb was sure to go \"\"\""
   ]
  },
  {
   "cell_type": "code",
   "execution_count": 6,
   "id": "6eb62f4c",
   "metadata": {},
   "outputs": [],
   "source": [
    "tokens = nltk.word_tokenize(text, 'english')"
   ]
  },
  {
   "cell_type": "code",
   "execution_count": 7,
   "id": "e9bcc7de",
   "metadata": {},
   "outputs": [
    {
     "name": "stdout",
     "output_type": "stream",
     "text": [
      "['Mary', 'had', 'a', 'little', 'lamb', ',', 'little', 'lamb', ',', 'little', 'lamb', '.', \"'Mary\", \"'\", 'had', 'a', 'little', 'lamb', 'whose', 'fleece', 'was', 'white', 'as', 'snow', '.', 'and', 'everywhere', 'that', 'mary', 'went', 'mary', 'went', ',', 'mary', 'went', '.', 'Everywhere', 'that', 'Mary', 'went', ',', 'The', 'lamb', 'was', 'sure', 'to', 'go']\n"
     ]
    }
   ],
   "source": [
    "print(tokens)"
   ]
  },
  {
   "cell_type": "code",
   "execution_count": 8,
   "id": "a0981193",
   "metadata": {},
   "outputs": [
    {
     "data": {
      "text/plain": [
       "['Mary had a little lamb, little lamb, little lamb.',\n",
       " \"'Mary' had a little lamb whose fleece was white as snow.\",\n",
       " 'and \\neverywhere that mary went mary went, mary went.',\n",
       " 'Everywhere that Mary went, \\nThe lamb was sure to go']"
      ]
     },
     "execution_count": 8,
     "metadata": {},
     "output_type": "execute_result"
    }
   ],
   "source": [
    "sentences = nltk.sent_tokenize(text, 'english')\n",
    "\n",
    "sentences"
   ]
  },
  {
   "cell_type": "code",
   "execution_count": 9,
   "id": "bc384ef9",
   "metadata": {},
   "outputs": [
    {
     "name": "stdout",
     "output_type": "stream",
     "text": [
      ",\n",
      "'Mary\n",
      "'\n"
     ]
    }
   ],
   "source": [
    "print(tokens[5])\n",
    "print(tokens[12])\n",
    "print(tokens[13])"
   ]
  },
  {
   "cell_type": "code",
   "execution_count": 10,
   "id": "98c2200b",
   "metadata": {},
   "outputs": [],
   "source": [
    "tokens = nltk.tokenize.WordPunctTokenizer().tokenize(text)"
   ]
  },
  {
   "cell_type": "code",
   "execution_count": 11,
   "id": "b5e18855",
   "metadata": {},
   "outputs": [
    {
     "name": "stdout",
     "output_type": "stream",
     "text": [
      ",\n",
      "'\n",
      "Mary\n",
      "'\n"
     ]
    }
   ],
   "source": [
    "print(tokens[5])\n",
    "print(tokens[12])\n",
    "print(tokens[13])\n",
    "print(tokens[14])"
   ]
  },
  {
   "cell_type": "code",
   "execution_count": 12,
   "id": "7d2b869d",
   "metadata": {},
   "outputs": [],
   "source": [
    "def tokenize(text, preserve_case=True):\n",
    "    punctuation = set(string.punctuation)\n",
    "    text_words = []\n",
    "\n",
    "    for word in nltk.tokenize.WordPunctTokenizer().tokenize(text):\n",
    "\n",
    "        if word in punctuation:\n",
    "            continue\n",
    "\n",
    "        if preserve_case:\n",
    "            text_words.append(word)\n",
    "        else:\n",
    "            text_words.append(word.lower())\n",
    "    \n",
    "    return text_words"
   ]
  },
  {
   "cell_type": "code",
   "execution_count": 13,
   "id": "5c8ec078",
   "metadata": {},
   "outputs": [
    {
     "data": {
      "text/plain": [
       "['mary',\n",
       " 'had',\n",
       " 'a',\n",
       " 'little',\n",
       " 'lamb',\n",
       " 'little',\n",
       " 'lamb',\n",
       " 'little',\n",
       " 'lamb',\n",
       " 'mary',\n",
       " 'had',\n",
       " 'a',\n",
       " 'little',\n",
       " 'lamb',\n",
       " 'whose',\n",
       " 'fleece',\n",
       " 'was',\n",
       " 'white',\n",
       " 'as',\n",
       " 'snow',\n",
       " 'and',\n",
       " 'everywhere',\n",
       " 'that',\n",
       " 'mary',\n",
       " 'went',\n",
       " 'mary',\n",
       " 'went',\n",
       " 'mary',\n",
       " 'went',\n",
       " 'everywhere',\n",
       " 'that',\n",
       " 'mary',\n",
       " 'went',\n",
       " 'the',\n",
       " 'lamb',\n",
       " 'was',\n",
       " 'sure',\n",
       " 'to',\n",
       " 'go']"
      ]
     },
     "execution_count": 13,
     "metadata": {},
     "output_type": "execute_result"
    }
   ],
   "source": [
    "text_words = tokenize(text, False)\n",
    "text_words"
   ]
  },
  {
   "cell_type": "code",
   "execution_count": 14,
   "id": "108aecf5",
   "metadata": {},
   "outputs": [
    {
     "name": "stdout",
     "output_type": "stream",
     "text": [
      "    a and as everywhere fleece go had lamb little mary snow sure that the to  \\\n",
      "0                                                    1                         \n",
      "1                                   1                                          \n",
      "2   1                                                                          \n",
      "3                                               1                              \n",
      "4                                        1                                     \n",
      "5                                               1                              \n",
      "6                                        1                                     \n",
      "7                                               1                              \n",
      "8                                        1                                     \n",
      "9                                                    1                         \n",
      "10                                  1                                          \n",
      "11  1                                                                          \n",
      "12                                              1                              \n",
      "13                                       1                                     \n",
      "14                                                                             \n",
      "15                           1                                                 \n",
      "16                                                                             \n",
      "17                                                                             \n",
      "18         1                                                                   \n",
      "19                                                        1                    \n",
      "20      1                                                                      \n",
      "21                    1                                                        \n",
      "22                                                                  1          \n",
      "23                                                   1                         \n",
      "24                                                                             \n",
      "25                                                   1                         \n",
      "26                                                                             \n",
      "27                                                   1                         \n",
      "28                                                                             \n",
      "29                    1                                                        \n",
      "30                                                                  1          \n",
      "31                                                   1                         \n",
      "32                                                                             \n",
      "33                                                                      1      \n",
      "34                                       1                                     \n",
      "35                                                                             \n",
      "36                                                             1               \n",
      "37                                                                         1   \n",
      "38                              1                                              \n",
      "\n",
      "   was went white whose  \n",
      "0                        \n",
      "1                        \n",
      "2                        \n",
      "3                        \n",
      "4                        \n",
      "5                        \n",
      "6                        \n",
      "7                        \n",
      "8                        \n",
      "9                        \n",
      "10                       \n",
      "11                       \n",
      "12                       \n",
      "13                       \n",
      "14                    1  \n",
      "15                       \n",
      "16   1                   \n",
      "17              1        \n",
      "18                       \n",
      "19                       \n",
      "20                       \n",
      "21                       \n",
      "22                       \n",
      "23                       \n",
      "24        1              \n",
      "25                       \n",
      "26        1              \n",
      "27                       \n",
      "28        1              \n",
      "29                       \n",
      "30                       \n",
      "31                       \n",
      "32        1              \n",
      "33                       \n",
      "34                       \n",
      "35   1                   \n",
      "36                       \n",
      "37                       \n",
      "38                       \n"
     ]
    }
   ],
   "source": [
    "# we can get a quick one-hot encoded version using pandas: \n",
    "one_hot = pd.get_dummies(text_words)\n",
    "temp = one_hot.replace({True: '1', False: ''})\n",
    "print(temp)"
   ]
  },
  {
   "cell_type": "code",
   "execution_count": 15,
   "id": "90559568",
   "metadata": {},
   "outputs": [
    {
     "name": "stdout",
     "output_type": "stream",
     "text": [
      "{'a': 0, 'and': 1, 'as': 2, 'everywhere': 3, 'fleece': 4, 'go': 5, 'had': 6, 'lamb': 7, 'little': 8, 'mary': 9, 'snow': 10, 'sure': 11, 'that': 12, 'the': 13, 'to': 14, 'was': 15, 'went': 16, 'white': 17, 'whose': 18}\n"
     ]
    }
   ],
   "source": [
    "# word_dict = dict(zip(one_hot.columns, np.arange(one_hot.shape[1])))\n",
    "word_dict = dict(zip(one_hot.columns, map(int, np.arange(one_hot.shape[1]))))\n",
    "\n",
    "print(word_dict)"
   ]
  },
  {
   "cell_type": "code",
   "execution_count": 16,
   "id": "94047417",
   "metadata": {},
   "outputs": [
    {
     "data": {
      "text/html": [
       "<div>\n",
       "<style scoped>\n",
       "    .dataframe tbody tr th:only-of-type {\n",
       "        vertical-align: middle;\n",
       "    }\n",
       "\n",
       "    .dataframe tbody tr th {\n",
       "        vertical-align: top;\n",
       "    }\n",
       "\n",
       "    .dataframe thead th {\n",
       "        text-align: right;\n",
       "    }\n",
       "</style>\n",
       "<table border=\"1\" class=\"dataframe\">\n",
       "  <thead>\n",
       "    <tr style=\"text-align: right;\">\n",
       "      <th></th>\n",
       "      <th>Count</th>\n",
       "    </tr>\n",
       "  </thead>\n",
       "  <tbody>\n",
       "    <tr>\n",
       "      <th>a</th>\n",
       "      <td>2</td>\n",
       "    </tr>\n",
       "    <tr>\n",
       "      <th>and</th>\n",
       "      <td>1</td>\n",
       "    </tr>\n",
       "    <tr>\n",
       "      <th>as</th>\n",
       "      <td>1</td>\n",
       "    </tr>\n",
       "    <tr>\n",
       "      <th>everywhere</th>\n",
       "      <td>2</td>\n",
       "    </tr>\n",
       "    <tr>\n",
       "      <th>fleece</th>\n",
       "      <td>1</td>\n",
       "    </tr>\n",
       "    <tr>\n",
       "      <th>go</th>\n",
       "      <td>1</td>\n",
       "    </tr>\n",
       "    <tr>\n",
       "      <th>had</th>\n",
       "      <td>2</td>\n",
       "    </tr>\n",
       "    <tr>\n",
       "      <th>lamb</th>\n",
       "      <td>5</td>\n",
       "    </tr>\n",
       "    <tr>\n",
       "      <th>little</th>\n",
       "      <td>4</td>\n",
       "    </tr>\n",
       "    <tr>\n",
       "      <th>mary</th>\n",
       "      <td>6</td>\n",
       "    </tr>\n",
       "    <tr>\n",
       "      <th>snow</th>\n",
       "      <td>1</td>\n",
       "    </tr>\n",
       "    <tr>\n",
       "      <th>sure</th>\n",
       "      <td>1</td>\n",
       "    </tr>\n",
       "    <tr>\n",
       "      <th>that</th>\n",
       "      <td>2</td>\n",
       "    </tr>\n",
       "    <tr>\n",
       "      <th>the</th>\n",
       "      <td>1</td>\n",
       "    </tr>\n",
       "    <tr>\n",
       "      <th>to</th>\n",
       "      <td>1</td>\n",
       "    </tr>\n",
       "    <tr>\n",
       "      <th>was</th>\n",
       "      <td>2</td>\n",
       "    </tr>\n",
       "    <tr>\n",
       "      <th>went</th>\n",
       "      <td>4</td>\n",
       "    </tr>\n",
       "    <tr>\n",
       "      <th>white</th>\n",
       "      <td>1</td>\n",
       "    </tr>\n",
       "    <tr>\n",
       "      <th>whose</th>\n",
       "      <td>1</td>\n",
       "    </tr>\n",
       "  </tbody>\n",
       "</table>\n",
       "</div>"
      ],
      "text/plain": [
       "            Count\n",
       "a               2\n",
       "and             1\n",
       "as              1\n",
       "everywhere      2\n",
       "fleece          1\n",
       "go              1\n",
       "had             2\n",
       "lamb            5\n",
       "little          4\n",
       "mary            6\n",
       "snow            1\n",
       "sure            1\n",
       "that            2\n",
       "the             1\n",
       "to              1\n",
       "was             2\n",
       "went            4\n",
       "white           1\n",
       "whose           1"
      ]
     },
     "execution_count": 16,
     "metadata": {},
     "output_type": "execute_result"
    }
   ],
   "source": [
    "# bag of words presentation\n",
    "pd.DataFrame(one_hot.sum(), columns=['Count'])"
   ]
  },
  {
   "cell_type": "code",
   "execution_count": 18,
   "id": "34e53acd",
   "metadata": {},
   "outputs": [
    {
     "data": {
      "text/html": [
       "<div>\n",
       "<style scoped>\n",
       "    .dataframe tbody tr th:only-of-type {\n",
       "        vertical-align: middle;\n",
       "    }\n",
       "\n",
       "    .dataframe tbody tr th {\n",
       "        vertical-align: top;\n",
       "    }\n",
       "\n",
       "    .dataframe thead th {\n",
       "        text-align: right;\n",
       "    }\n",
       "</style>\n",
       "<table border=\"1\" class=\"dataframe\">\n",
       "  <thead>\n",
       "    <tr style=\"text-align: right;\">\n",
       "      <th></th>\n",
       "      <th>Filtered</th>\n",
       "    </tr>\n",
       "    <tr>\n",
       "      <th>Original</th>\n",
       "      <th></th>\n",
       "    </tr>\n",
       "  </thead>\n",
       "  <tbody>\n",
       "    <tr>\n",
       "      <th>Mary</th>\n",
       "      <td>Mary</td>\n",
       "    </tr>\n",
       "    <tr>\n",
       "      <th>had</th>\n",
       "      <td></td>\n",
       "    </tr>\n",
       "    <tr>\n",
       "      <th>a</th>\n",
       "      <td></td>\n",
       "    </tr>\n",
       "    <tr>\n",
       "      <th>little</th>\n",
       "      <td>little</td>\n",
       "    </tr>\n",
       "    <tr>\n",
       "      <th>lamb</th>\n",
       "      <td>lamb</td>\n",
       "    </tr>\n",
       "    <tr>\n",
       "      <th>little</th>\n",
       "      <td>little</td>\n",
       "    </tr>\n",
       "    <tr>\n",
       "      <th>lamb</th>\n",
       "      <td>lamb</td>\n",
       "    </tr>\n",
       "    <tr>\n",
       "      <th>little</th>\n",
       "      <td>little</td>\n",
       "    </tr>\n",
       "    <tr>\n",
       "      <th>lamb</th>\n",
       "      <td>lamb</td>\n",
       "    </tr>\n",
       "    <tr>\n",
       "      <th>Mary</th>\n",
       "      <td>Mary</td>\n",
       "    </tr>\n",
       "    <tr>\n",
       "      <th>had</th>\n",
       "      <td></td>\n",
       "    </tr>\n",
       "    <tr>\n",
       "      <th>a</th>\n",
       "      <td></td>\n",
       "    </tr>\n",
       "    <tr>\n",
       "      <th>little</th>\n",
       "      <td>little</td>\n",
       "    </tr>\n",
       "    <tr>\n",
       "      <th>lamb</th>\n",
       "      <td>lamb</td>\n",
       "    </tr>\n",
       "    <tr>\n",
       "      <th>whose</th>\n",
       "      <td>whose</td>\n",
       "    </tr>\n",
       "    <tr>\n",
       "      <th>fleece</th>\n",
       "      <td>fleece</td>\n",
       "    </tr>\n",
       "    <tr>\n",
       "      <th>was</th>\n",
       "      <td></td>\n",
       "    </tr>\n",
       "    <tr>\n",
       "      <th>white</th>\n",
       "      <td>white</td>\n",
       "    </tr>\n",
       "    <tr>\n",
       "      <th>as</th>\n",
       "      <td></td>\n",
       "    </tr>\n",
       "    <tr>\n",
       "      <th>snow</th>\n",
       "      <td>snow</td>\n",
       "    </tr>\n",
       "    <tr>\n",
       "      <th>and</th>\n",
       "      <td></td>\n",
       "    </tr>\n",
       "    <tr>\n",
       "      <th>everywhere</th>\n",
       "      <td>everywhere</td>\n",
       "    </tr>\n",
       "    <tr>\n",
       "      <th>that</th>\n",
       "      <td></td>\n",
       "    </tr>\n",
       "    <tr>\n",
       "      <th>mary</th>\n",
       "      <td>mary</td>\n",
       "    </tr>\n",
       "    <tr>\n",
       "      <th>went</th>\n",
       "      <td>went</td>\n",
       "    </tr>\n",
       "    <tr>\n",
       "      <th>mary</th>\n",
       "      <td>mary</td>\n",
       "    </tr>\n",
       "    <tr>\n",
       "      <th>went</th>\n",
       "      <td>went</td>\n",
       "    </tr>\n",
       "    <tr>\n",
       "      <th>mary</th>\n",
       "      <td>mary</td>\n",
       "    </tr>\n",
       "    <tr>\n",
       "      <th>went</th>\n",
       "      <td>went</td>\n",
       "    </tr>\n",
       "    <tr>\n",
       "      <th>Everywhere</th>\n",
       "      <td>Everywhere</td>\n",
       "    </tr>\n",
       "    <tr>\n",
       "      <th>that</th>\n",
       "      <td></td>\n",
       "    </tr>\n",
       "    <tr>\n",
       "      <th>Mary</th>\n",
       "      <td>Mary</td>\n",
       "    </tr>\n",
       "    <tr>\n",
       "      <th>went</th>\n",
       "      <td>went</td>\n",
       "    </tr>\n",
       "    <tr>\n",
       "      <th>The</th>\n",
       "      <td></td>\n",
       "    </tr>\n",
       "    <tr>\n",
       "      <th>lamb</th>\n",
       "      <td>lamb</td>\n",
       "    </tr>\n",
       "    <tr>\n",
       "      <th>was</th>\n",
       "      <td></td>\n",
       "    </tr>\n",
       "    <tr>\n",
       "      <th>sure</th>\n",
       "      <td>sure</td>\n",
       "    </tr>\n",
       "    <tr>\n",
       "      <th>to</th>\n",
       "      <td></td>\n",
       "    </tr>\n",
       "    <tr>\n",
       "      <th>go</th>\n",
       "      <td>go</td>\n",
       "    </tr>\n",
       "  </tbody>\n",
       "</table>\n",
       "</div>"
      ],
      "text/plain": [
       "              Filtered\n",
       "Original              \n",
       "Mary              Mary\n",
       "had                   \n",
       "a                     \n",
       "little          little\n",
       "lamb              lamb\n",
       "little          little\n",
       "lamb              lamb\n",
       "little          little\n",
       "lamb              lamb\n",
       "Mary              Mary\n",
       "had                   \n",
       "a                     \n",
       "little          little\n",
       "lamb              lamb\n",
       "whose            whose\n",
       "fleece          fleece\n",
       "was                   \n",
       "white            white\n",
       "as                    \n",
       "snow              snow\n",
       "and                   \n",
       "everywhere  everywhere\n",
       "that                  \n",
       "mary              mary\n",
       "went              went\n",
       "mary              mary\n",
       "went              went\n",
       "mary              mary\n",
       "went              went\n",
       "Everywhere  Everywhere\n",
       "that                  \n",
       "Mary              Mary\n",
       "went              went\n",
       "The                   \n",
       "lamb              lamb\n",
       "was                   \n",
       "sure              sure\n",
       "to                    \n",
       "go                  go"
      ]
     },
     "execution_count": 18,
     "metadata": {},
     "output_type": "execute_result"
    }
   ],
   "source": [
    "stop_words = set(stopwords.words('english'))\n",
    "\n",
    "tokens = tokenize(text)\n",
    "filtered_sentence = [word if word.lower() not in stop_words else \"\" for word in tokens]\n",
    "pd.DataFrame((zip(tokens, filtered_sentence)), columns = ['Original', 'Filtered']).set_index('Original')"
   ]
  },
  {
   "cell_type": "code",
   "execution_count": 19,
   "id": "94187cc8",
   "metadata": {},
   "outputs": [
    {
     "data": {
      "text/plain": [
       "4"
      ]
     },
     "execution_count": 19,
     "metadata": {},
     "output_type": "execute_result"
    }
   ],
   "source": [
    "# TF/IDF \n",
    "corpus = nltk.sent_tokenize(text)\n",
    "len(corpus)"
   ]
  },
  {
   "cell_type": "code",
   "execution_count": 20,
   "id": "9363f9d3",
   "metadata": {},
   "outputs": [
    {
     "data": {
      "text/plain": [
       "[['mary', 'had', 'a', 'little', 'lamb', 'little', 'lamb', 'little', 'lamb'],\n",
       " ['mary',\n",
       "  'had',\n",
       "  'a',\n",
       "  'little',\n",
       "  'lamb',\n",
       "  'whose',\n",
       "  'fleece',\n",
       "  'was',\n",
       "  'white',\n",
       "  'as',\n",
       "  'snow'],\n",
       " ['and', 'everywhere', 'that', 'mary', 'went', 'mary', 'went', 'mary', 'went'],\n",
       " ['everywhere',\n",
       "  'that',\n",
       "  'mary',\n",
       "  'went',\n",
       "  'the',\n",
       "  'lamb',\n",
       "  'was',\n",
       "  'sure',\n",
       "  'to',\n",
       "  'go']]"
      ]
     },
     "execution_count": 20,
     "metadata": {},
     "output_type": "execute_result"
    }
   ],
   "source": [
    "corpus = [tokenize(doc, preserve_case=False) for doc in corpus]\n",
    "corpus"
   ]
  },
  {
   "cell_type": "code",
   "execution_count": 22,
   "id": "7ce9f29d",
   "metadata": {},
   "outputs": [
    {
     "data": {
      "text/plain": [
       "<Axes: xlabel='Samples', ylabel='Counts'>"
      ]
     },
     "execution_count": 22,
     "metadata": {},
     "output_type": "execute_result"
    },
    {
     "data": {
      "image/png": "[encoded data removed]",
      "text/plain": [
       "<Figure size 640x480 with 1 Axes>"
      ]
     },
     "metadata": {},
     "output_type": "display_data"
    }
   ],
   "source": [
    "nlp = TextCollection(corpus)\n",
    "nlp.plot()"
   ]
  },
  {
   "cell_type": "code",
   "execution_count": 23,
   "id": "1f26f5d9",
   "metadata": {},
   "outputs": [
    {
     "data": {
      "text/plain": [
       "0.0"
      ]
     },
     "execution_count": 23,
     "metadata": {},
     "output_type": "execute_result"
    }
   ],
   "source": [
    "nlp.tf_idf('Mary', corpus[3])"
   ]
  },
  {
   "cell_type": "code",
   "execution_count": 24,
   "id": "4af189b6",
   "metadata": {},
   "outputs": [],
   "source": [
    "TFIDF = []\n",
    "\n",
    "for doc in corpus:\n",
    "    current = {}\n",
    "    for token in doc:\n",
    "        current[token] = nlp.tf_idf(token, doc)\n",
    "        \n",
    "    TFIDF.append(current)"
   ]
  },
  {
   "cell_type": "code",
   "execution_count": 25,
   "id": "47822039",
   "metadata": {},
   "outputs": [
    {
     "data": {
      "text/plain": [
       "[{'mary': 0.0,\n",
       "  'had': 0.07701635339554948,\n",
       "  'a': 0.07701635339554948,\n",
       "  'little': 0.23104906018664842,\n",
       "  'lamb': 0.09589402415059362},\n",
       " {'mary': 0.0,\n",
       "  'had': 0.06301338005090412,\n",
       "  'a': 0.06301338005090412,\n",
       "  'little': 0.06301338005090412,\n",
       "  'lamb': 0.026152915677434625,\n",
       "  'whose': 0.12602676010180824,\n",
       "  'fleece': 0.12602676010180824,\n",
       "  'was': 0.06301338005090412,\n",
       "  'white': 0.12602676010180824,\n",
       "  'as': 0.12602676010180824,\n",
       "  'snow': 0.12602676010180824},\n",
       " {'and': 0.15403270679109896,\n",
       "  'everywhere': 0.07701635339554948,\n",
       "  'that': 0.07701635339554948,\n",
       "  'mary': 0.0,\n",
       "  'went': 0.23104906018664842},\n",
       " {'everywhere': 0.06931471805599453,\n",
       "  'that': 0.06931471805599453,\n",
       "  'mary': 0.0,\n",
       "  'went': 0.06931471805599453,\n",
       "  'the': 0.13862943611198905,\n",
       "  'lamb': 0.028768207245178087,\n",
       "  'was': 0.06931471805599453,\n",
       "  'sure': 0.13862943611198905,\n",
       "  'to': 0.13862943611198905,\n",
       "  'go': 0.13862943611198905}]"
      ]
     },
     "execution_count": 25,
     "metadata": {},
     "output_type": "execute_result"
    }
   ],
   "source": [
    "TFIDF"
   ]
  },
  {
   "cell_type": "code",
   "execution_count": 26,
   "id": "7d8bc8d8",
   "metadata": {},
   "outputs": [],
   "source": [
    "def get_ngrams(text, length):\n",
    "    from nltk.util import ngrams\n",
    "\n",
    "    n_grams = ngrams(tokenize(text), length)\n",
    "    return[' '.join(grams) for grams in n_grams]\n"
   ]
  },
  {
   "cell_type": "code",
   "execution_count": 29,
   "id": "b1f9d9e9",
   "metadata": {},
   "outputs": [
    {
     "data": {
      "text/plain": [
       "['mary had',\n",
       " 'had a',\n",
       " 'a little',\n",
       " 'little lamb',\n",
       " 'lamb little',\n",
       " 'little lamb',\n",
       " 'lamb little',\n",
       " 'little lamb',\n",
       " 'lamb mary',\n",
       " 'mary had',\n",
       " 'had a',\n",
       " 'a little',\n",
       " 'little lamb',\n",
       " 'lamb whose',\n",
       " 'whose fleece',\n",
       " 'fleece was',\n",
       " 'was white',\n",
       " 'white as',\n",
       " 'as snow',\n",
       " 'snow and',\n",
       " 'and everywhere',\n",
       " 'everywhere that',\n",
       " 'that mary',\n",
       " 'mary went',\n",
       " 'went mary',\n",
       " 'mary went',\n",
       " 'went mary',\n",
       " 'mary went',\n",
       " 'went everywhere',\n",
       " 'everywhere that',\n",
       " 'that mary',\n",
       " 'mary went',\n",
       " 'went the',\n",
       " 'the lamb',\n",
       " 'lamb was',\n",
       " 'was sure',\n",
       " 'sure to',\n",
       " 'to go']"
      ]
     },
     "execution_count": 29,
     "metadata": {},
     "output_type": "execute_result"
    }
   ],
   "source": [
    "get_ngrams(text.lower(), 2)"
   ]
  },
  {
   "cell_type": "code",
   "execution_count": null,
   "id": "8f4ebbae",
   "metadata": {},
   "outputs": [],
   "source": [
    "# collections\n",
    "bigrams = BigramCollocationFinder.from_words(tokenize(text, False))\n"
   ]
  },
  {
   "cell_type": "code",
   "execution_count": 32,
   "id": "80ebe8e0",
   "metadata": {},
   "outputs": [],
   "source": [
    "scored_bigrams = bigrams.score_ngrams(BigramAssocMeasures.likelihood_ratio)\n"
   ]
  },
  {
   "cell_type": "code",
   "execution_count": 33,
   "id": "c686e84c",
   "metadata": {},
   "outputs": [
    {
     "data": {
      "text/plain": [
       "[(('little', 'lamb'), 20.789064969512467),\n",
       " (('mary', 'went'), 18.154919185356587),\n",
       " (('everywhere', 'that'), 15.777294140200038),\n",
       " (('had', 'a'), 15.777294140200038),\n",
       " (('a', 'little'), 10.232116695720478),\n",
       " (('as', 'snow'), 9.301260258907092),\n",
       " (('snow', 'and'), 9.301260258907092),\n",
       " (('sure', 'to'), 9.301260258907092),\n",
       " (('to', 'go'), 9.301260258907092),\n",
       " (('white', 'as'), 9.301260258907092),\n",
       " (('whose', 'fleece'), 9.301260258907092),\n",
       " (('mary', 'had'), 8.139124120662284),\n",
       " (('that', 'mary'), 8.139124120662284),\n",
       " (('and', 'everywhere'), 6.528671536667327),\n",
       " (('fleece', 'was'), 6.528671536667327),\n",
       " (('was', 'sure'), 6.528671536667327),\n",
       " (('was', 'white'), 6.528671536667327),\n",
       " (('went', 'the'), 4.802579101956642),\n",
       " (('lamb', 'whose'), 4.297236023525216),\n",
       " (('the', 'lamb'), 4.297236023525216),\n",
       " (('lamb', 'little'), 3.850143362325084),\n",
       " (('went', 'mary'), 3.065215528887738),\n",
       " (('went', 'everywhere'), 2.196764352889584),\n",
       " (('lamb', 'was'), 1.7502532877068806),\n",
       " (('lamb', 'mary'), 0.08819306486371048)]"
      ]
     },
     "execution_count": 33,
     "metadata": {},
     "output_type": "execute_result"
    }
   ],
   "source": [
    "scored_bigrams"
   ]
  },
  {
   "cell_type": "code",
   "execution_count": null,
   "id": "41f35b04",
   "metadata": {},
   "outputs": [],
   "source": []
  }
 ],
 "metadata": {
  "kernelspec": {
   "display_name": "env_nltk",
   "language": "python",
   "name": "python3"
  },
  "language_info": {
   "codemirror_mode": {
    "name": "ipython",
    "version": 3
   },
   "file_extension": ".py",
   "mimetype": "text/x-python",
   "name": "python",
   "nbconvert_exporter": "python",
   "pygments_lexer": "ipython3",
   "version": "3.11.9"
  }
 },
 "nbformat": 4,
 "nbformat_minor": 5
}
